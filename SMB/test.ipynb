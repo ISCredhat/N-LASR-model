{
 "cells": [
  {
   "metadata": {
    "ExecuteTime": {
     "end_time": "2024-11-12T09:17:49.963068Z",
     "start_time": "2024-11-12T09:17:49.958714Z"
    }
   },
   "cell_type": "code",
   "source": [
    "# We are going to:\n",
    "\n",
    "# Calc features\n",
    "# - read data for each ticker\n",
    "#   - resample to be hourly with forward fill\n",
    "#   - remove the weekends and non-trading hours\n",
    "# - calc technical indicator features.\n",
    "#     - for date \n",
    "#         - for each stock\n",
    "#             - we calculate a technical indicators using hourly data up until the end of the previous day\n",
    "#         - for each indicator we combine the values for all stocks\n",
    "#             - we rank this and split into n equal buckets and label > this is a single feature\n",
    "#     \n",
    "#     for d dates, s stocks and i indicators and b buckets then we should have a feature array of size\n",
    "#         d x i with b discrete labels\n",
    "# \n",
    "# This means that the feature is combined across the stocks which increases the number of data points to \n",
    "# d x s for each indicator approx 720 (144 weeks, ~3 years) * 126 * 65 = 5,896,800\n",
    "\n",
    "# Calc targets\n",
    "# We will calculate the return from the start of day at time t, until the end of day at time t+n\n",
    "# We can decide to trade every day or selected days of the weekday_data\n",
    "# # - read data for each ticker\n",
    "#     - resample the data to be hourly with backward fill\n",
    "#     - remove the weekends\n",
    "#     - get the first price on each entry day of the week\n",
    "#     - get the last price on the exit day, n days later\n",
    "#     - calculate the return between the entry and exit times, store this for each stock\n",
    "# - for each date \n",
    "#     - rank the returns across all stocks\n",
    "#     - split into buckets of number b\n",
    "#     - label the buckets, these are the targets\n",
    "# \n",
    "# For each of the d dates, for each of s stocks, there will be a single target comprising one of b different labels. \n",
    "# The target array will be of size d x s x 1, approx 720 x 126 x 1 = 90,720"
   ],
   "id": "d09db493e365fdf1",
   "outputs": [],
   "execution_count": 1
  },
  {
   "metadata": {
    "collapsed": true,
    "ExecuteTime": {
     "end_time": "2024-11-12T11:56:43.283311Z",
     "start_time": "2024-11-12T11:56:42.537355Z"
    }
   },
   "cell_type": "code",
   "source": [
    "import pandas as pd\n",
    "from sklearn.model_selection import train_test_split\n",
    "from SMB.data import read_config, write_targets_per_stock_by_date, read_targets_per_stock_by_date\n",
    "from SMB.targets import get_targets, reshape_X_y\n",
    "from SMB.calc_features import calc_all_stock_indicators, calc_daily_indicators\n",
    "import logging\n",
    "\n",
    "# Set up logging\n",
    "logging.basicConfig(level=logging.INFO,\n",
    "                    format='%(asctime)s - %(levelname)s - %(message)s',\n",
    "                    handlers=[logging.FileHandler(\"app.log\"),\n",
    "                              logging.StreamHandler()])\n",
    "\n",
    "config = read_config('base')"
   ],
   "id": "initial_id",
   "outputs": [
    {
     "name": "stderr",
     "output_type": "stream",
     "text": [
      "2024-11-12 11:56:43,280 - INFO - Reading config: base\n"
     ]
    }
   ],
   "execution_count": 1
  },
  {
   "metadata": {
    "ExecuteTime": {
     "end_time": "2024-11-12T11:56:48.093035Z",
     "start_time": "2024-11-12T11:56:47.908910Z"
    }
   },
   "cell_type": "code",
   "source": [
    "config['tickers'] = config['tickers'][0:4]\n",
    "targets_per_stock_by_date = get_targets(config)\n",
    "print(targets_per_stock_by_date)\n",
    "print(targets_per_stock_by_date.shape)"
   ],
   "id": "5b48d2e93f993557",
   "outputs": [
    {
     "name": "stderr",
     "output_type": "stream",
     "text": [
      "2024-11-12 11:56:47,911 - INFO - Reading prices file: /Users/stephanie/src/N-LASR-model/data/raw_prices/AAPL_1hr_historical_data_final.csv\n",
      "2024-11-12 11:56:47,965 - INFO - Reading prices file: /Users/stephanie/src/N-LASR-model/data/raw_prices/ADBE_1hr_historical_data_final.csv\n",
      "2024-11-12 11:56:47,994 - INFO - Reading prices file: /Users/stephanie/src/N-LASR-model/data/raw_prices/AIG_1hr_historical_data_final.csv\n",
      "2024-11-12 11:56:48,023 - INFO - Reading prices file: /Users/stephanie/src/N-LASR-model/data/raw_prices/ALL_1hr_historical_data_final.csv\n"
     ]
    },
    {
     "name": "stdout",
     "output_type": "stream",
     "text": [
      "            AAPL  ADBE  AIG  ALL\n",
      "2021-12-27     1     0    3    4\n",
      "2022-01-03     1     0    3    4\n",
      "2022-01-10     1     4    3    0\n",
      "2022-01-17     1     3    0    4\n",
      "2022-01-24     4     3    1    0\n",
      "...          ...   ...  ...  ...\n",
      "2024-08-26     0     3    1    4\n",
      "2024-09-02     1     3    0    4\n",
      "2024-09-09     1     0    3    4\n",
      "2024-09-16     4     0    1    3\n",
      "2024-09-23     4     0    3    1\n",
      "\n",
      "[144 rows x 4 columns]\n",
      "(144, 4)\n"
     ]
    }
   ],
   "execution_count": 2
  },
  {
   "metadata": {
    "ExecuteTime": {
     "end_time": "2024-11-12T11:56:54.706463Z",
     "start_time": "2024-11-12T11:56:54.701631Z"
    }
   },
   "cell_type": "code",
   "source": "targets_per_stock_by_date_file_name = write_targets_per_stock_by_date(config['name'], targets_per_stock_by_date)",
   "id": "be0f2cc305320477",
   "outputs": [
    {
     "name": "stderr",
     "output_type": "stream",
     "text": [
      "2024-11-12 11:56:54,703 - INFO - Writing model file to: /Users/stephanie/src/N-LASR-model/data/model/base/targets_per_stock_by_date_2024-11-12T11:56:54.pkl\n"
     ]
    }
   ],
   "execution_count": 4
  },
  {
   "metadata": {
    "ExecuteTime": {
     "end_time": "2024-11-12T11:56:55.717051Z",
     "start_time": "2024-11-12T11:56:55.713074Z"
    }
   },
   "cell_type": "code",
   "source": "targets = read_targets_per_stock_by_date(config['name'], 'targets_per_stock_by_date_2024-11-12T10:49:25.pkl')",
   "id": "93de7932eec5d072",
   "outputs": [
    {
     "name": "stderr",
     "output_type": "stream",
     "text": [
      "2024-11-12 11:56:55,714 - INFO - Reading model file: /Users/stephanie/src/N-LASR-model/data/model/base/targets_per_stock_by_date_2024-11-12T10:49:25.pkl\n"
     ]
    }
   ],
   "execution_count": 5
  },
  {
   "metadata": {
    "ExecuteTime": {
     "end_time": "2024-11-12T11:56:57.016198Z",
     "start_time": "2024-11-12T11:56:57.011252Z"
    }
   },
   "cell_type": "code",
   "source": [
    "# check the index(dates) for X and y match \n",
    "X = targets\n",
    "y = targets\n",
    "\n",
    "X_train, X_test, y_train, y_test = train_test_split(\n",
    "    X, y, \n",
    "    test_size=config['test_size'], \n",
    "    random_state=config['random_state'], \n",
    "    shuffle=config['shuffle']\n",
    ")\n",
    "print(X.shape)\n",
    "print(X_train.shape)\n",
    "print(X_test.shape)\n",
    "print(y.shape)\n",
    "print(y_train.shape)\n",
    "print(y_test.shape)"
   ],
   "id": "9fca6e57b2bdb998",
   "outputs": [
    {
     "name": "stdout",
     "output_type": "stream",
     "text": [
      "(144, 4)\n",
      "(43, 4)\n",
      "(101, 4)\n",
      "(144, 4)\n",
      "(43, 4)\n",
      "(101, 4)\n"
     ]
    }
   ],
   "execution_count": 6
  },
  {
   "metadata": {
    "ExecuteTime": {
     "end_time": "2024-11-12T11:56:59.621361Z",
     "start_time": "2024-11-12T11:56:59.610677Z"
    }
   },
   "cell_type": "code",
   "source": "X_train2, y_train2 = reshape_X_y(X_train, y_test)\n",
   "id": "c79f84f5a2302067",
   "outputs": [
    {
     "name": "stderr",
     "output_type": "stream",
     "text": [
      "2024-11-12 11:56:59,615 - INFO - original shape:(43, 4)\n",
      "2024-11-12 11:56:59,616 - INFO - new shape:(172, 1)\n",
      "2024-11-12 11:56:59,618 - INFO - original shape:(101, 4)\n",
      "2024-11-12 11:56:59,619 - INFO - new shape:(404, 1)\n"
     ]
    }
   ],
   "execution_count": 7
  },
  {
   "metadata": {
    "ExecuteTime": {
     "end_time": "2024-11-08T17:38:21.184626Z",
     "start_time": "2024-11-08T17:38:21.023120Z"
    }
   },
   "cell_type": "code",
   "outputs": [
    {
     "name": "stdout",
     "output_type": "stream",
     "text": [
      "(693, 6)\n",
      "(693, 66)\n",
      "adx               float64\n",
      "alma              float64\n",
      "ao                float64\n",
      "atr               float64\n",
      "bias              float64\n",
      "                   ...   \n",
      "variance          float64\n",
      "vortex_VTXP_14    float64\n",
      "vortex_VTXM_14    float64\n",
      "wma               float64\n",
      "willr             float64\n",
      "Length: 66, dtype: object\n"
     ]
    }
   ],
   "execution_count": 47,
   "source": [
    "print(daily_weekday_data.shape)\n",
    "ta = calc_daily_indicators(daily_weekday_data)\n",
    "print(ta.shape)\n",
    "print(ta.dtypes)"
   ],
   "id": "56e96a7e84100fc2"
  },
  {
   "metadata": {
    "ExecuteTime": {
     "end_time": "2024-11-08T17:40:36.544562Z",
     "start_time": "2024-11-08T17:40:36.529976Z"
    }
   },
   "cell_type": "code",
   "source": [
    "ta_sum = pd.concat([ta, ta])\n",
    "print(ta_sum.shape)"
   ],
   "id": "abfa9c2f7d560e8d",
   "outputs": [
    {
     "name": "stdout",
     "output_type": "stream",
     "text": [
      "(1386, 66)\n"
     ]
    }
   ],
   "execution_count": 50
  },
  {
   "metadata": {
    "ExecuteTime": {
     "end_time": "2024-11-08T14:43:48.134735Z",
     "start_time": "2024-11-08T14:43:30.566051Z"
    }
   },
   "cell_type": "code",
   "outputs": [
    {
     "name": "stderr",
     "output_type": "stream",
     "text": [
      "/Users/stephanie/src/N-LASR-model/SMB/calc_features.py:58: FutureWarning: The default fill_method='pad' in Series.pct_change is deprecated and will be removed in a future version. Either fill in any non-leading NA values prior to calling pct_change or specify 'fill_method=None' to not fill NA values.\n",
      "  indicators['percent_return'] = calc_mean(ta.percent_return(p.close))\n",
      "/Users/stephanie/src/N-LASR-model/SMB/calc_features.py:58: FutureWarning: The default fill_method='pad' in Series.pct_change is deprecated and will be removed in a future version. Either fill in any non-leading NA values prior to calling pct_change or specify 'fill_method=None' to not fill NA values.\n",
      "  indicators['percent_return'] = calc_mean(ta.percent_return(p.close))\n",
      "/Users/stephanie/src/N-LASR-model/SMB/calc_features.py:58: FutureWarning: The default fill_method='pad' in Series.pct_change is deprecated and will be removed in a future version. Either fill in any non-leading NA values prior to calling pct_change or specify 'fill_method=None' to not fill NA values.\n",
      "  indicators['percent_return'] = calc_mean(ta.percent_return(p.close))\n",
      "/Users/stephanie/src/N-LASR-model/SMB/calc_features.py:58: FutureWarning: The default fill_method='pad' in Series.pct_change is deprecated and will be removed in a future version. Either fill in any non-leading NA values prior to calling pct_change or specify 'fill_method=None' to not fill NA values.\n",
      "  indicators['percent_return'] = calc_mean(ta.percent_return(p.close))\n",
      "/Users/stephanie/src/N-LASR-model/SMB/calc_features.py:58: FutureWarning: The default fill_method='pad' in Series.pct_change is deprecated and will be removed in a future version. Either fill in any non-leading NA values prior to calling pct_change or specify 'fill_method=None' to not fill NA values.\n",
      "  indicators['percent_return'] = calc_mean(ta.percent_return(p.close))\n",
      "/Users/stephanie/src/N-LASR-model/SMB/calc_features.py:58: FutureWarning: The default fill_method='pad' in Series.pct_change is deprecated and will be removed in a future version. Either fill in any non-leading NA values prior to calling pct_change or specify 'fill_method=None' to not fill NA values.\n",
      "  indicators['percent_return'] = calc_mean(ta.percent_return(p.close))\n",
      "/Users/stephanie/src/N-LASR-model/SMB/calc_features.py:58: FutureWarning: The default fill_method='pad' in Series.pct_change is deprecated and will be removed in a future version. Either fill in any non-leading NA values prior to calling pct_change or specify 'fill_method=None' to not fill NA values.\n",
      "  indicators['percent_return'] = calc_mean(ta.percent_return(p.close))\n",
      "/Users/stephanie/src/N-LASR-model/SMB/calc_features.py:58: FutureWarning: The default fill_method='pad' in Series.pct_change is deprecated and will be removed in a future version. Either fill in any non-leading NA values prior to calling pct_change or specify 'fill_method=None' to not fill NA values.\n",
      "  indicators['percent_return'] = calc_mean(ta.percent_return(p.close))\n",
      "/Users/stephanie/src/N-LASR-model/SMB/calc_features.py:58: FutureWarning: The default fill_method='pad' in Series.pct_change is deprecated and will be removed in a future version. Either fill in any non-leading NA values prior to calling pct_change or specify 'fill_method=None' to not fill NA values.\n",
      "  indicators['percent_return'] = calc_mean(ta.percent_return(p.close))\n",
      "/Users/stephanie/src/N-LASR-model/SMB/calc_features.py:58: FutureWarning: The default fill_method='pad' in Series.pct_change is deprecated and will be removed in a future version. Either fill in any non-leading NA values prior to calling pct_change or specify 'fill_method=None' to not fill NA values.\n",
      "  indicators['percent_return'] = calc_mean(ta.percent_return(p.close))\n",
      "/Users/stephanie/src/N-LASR-model/SMB/calc_features.py:58: FutureWarning: The default fill_method='pad' in Series.pct_change is deprecated and will be removed in a future version. Either fill in any non-leading NA values prior to calling pct_change or specify 'fill_method=None' to not fill NA values.\n",
      "  indicators['percent_return'] = calc_mean(ta.percent_return(p.close))\n",
      "/Users/stephanie/src/N-LASR-model/SMB/calc_features.py:58: FutureWarning: The default fill_method='pad' in Series.pct_change is deprecated and will be removed in a future version. Either fill in any non-leading NA values prior to calling pct_change or specify 'fill_method=None' to not fill NA values.\n",
      "  indicators['percent_return'] = calc_mean(ta.percent_return(p.close))\n",
      "/Users/stephanie/src/N-LASR-model/SMB/calc_features.py:58: FutureWarning: The default fill_method='pad' in Series.pct_change is deprecated and will be removed in a future version. Either fill in any non-leading NA values prior to calling pct_change or specify 'fill_method=None' to not fill NA values.\n",
      "  indicators['percent_return'] = calc_mean(ta.percent_return(p.close))\n",
      "/Users/stephanie/src/N-LASR-model/SMB/calc_features.py:58: FutureWarning: The default fill_method='pad' in Series.pct_change is deprecated and will be removed in a future version. Either fill in any non-leading NA values prior to calling pct_change or specify 'fill_method=None' to not fill NA values.\n",
      "  indicators['percent_return'] = calc_mean(ta.percent_return(p.close))\n",
      "/Users/stephanie/src/N-LASR-model/SMB/calc_features.py:58: FutureWarning: The default fill_method='pad' in Series.pct_change is deprecated and will be removed in a future version. Either fill in any non-leading NA values prior to calling pct_change or specify 'fill_method=None' to not fill NA values.\n",
      "  indicators['percent_return'] = calc_mean(ta.percent_return(p.close))\n",
      "/Users/stephanie/src/N-LASR-model/SMB/calc_features.py:58: FutureWarning: The default fill_method='pad' in Series.pct_change is deprecated and will be removed in a future version. Either fill in any non-leading NA values prior to calling pct_change or specify 'fill_method=None' to not fill NA values.\n",
      "  indicators['percent_return'] = calc_mean(ta.percent_return(p.close))\n",
      "/Users/stephanie/src/N-LASR-model/SMB/calc_features.py:58: FutureWarning: The default fill_method='pad' in Series.pct_change is deprecated and will be removed in a future version. Either fill in any non-leading NA values prior to calling pct_change or specify 'fill_method=None' to not fill NA values.\n",
      "  indicators['percent_return'] = calc_mean(ta.percent_return(p.close))\n",
      "/Users/stephanie/src/N-LASR-model/SMB/calc_features.py:58: FutureWarning: The default fill_method='pad' in Series.pct_change is deprecated and will be removed in a future version. Either fill in any non-leading NA values prior to calling pct_change or specify 'fill_method=None' to not fill NA values.\n",
      "  indicators['percent_return'] = calc_mean(ta.percent_return(p.close))\n",
      "/Users/stephanie/src/N-LASR-model/SMB/calc_features.py:58: FutureWarning: The default fill_method='pad' in Series.pct_change is deprecated and will be removed in a future version. Either fill in any non-leading NA values prior to calling pct_change or specify 'fill_method=None' to not fill NA values.\n",
      "  indicators['percent_return'] = calc_mean(ta.percent_return(p.close))\n",
      "/Users/stephanie/src/N-LASR-model/SMB/calc_features.py:58: FutureWarning: The default fill_method='pad' in Series.pct_change is deprecated and will be removed in a future version. Either fill in any non-leading NA values prior to calling pct_change or specify 'fill_method=None' to not fill NA values.\n",
      "  indicators['percent_return'] = calc_mean(ta.percent_return(p.close))\n",
      "/Users/stephanie/src/N-LASR-model/SMB/calc_features.py:58: FutureWarning: The default fill_method='pad' in Series.pct_change is deprecated and will be removed in a future version. Either fill in any non-leading NA values prior to calling pct_change or specify 'fill_method=None' to not fill NA values.\n",
      "  indicators['percent_return'] = calc_mean(ta.percent_return(p.close))\n",
      "/Users/stephanie/src/N-LASR-model/SMB/calc_features.py:58: FutureWarning: The default fill_method='pad' in Series.pct_change is deprecated and will be removed in a future version. Either fill in any non-leading NA values prior to calling pct_change or specify 'fill_method=None' to not fill NA values.\n",
      "  indicators['percent_return'] = calc_mean(ta.percent_return(p.close))\n",
      "/Users/stephanie/src/N-LASR-model/SMB/calc_features.py:58: FutureWarning: The default fill_method='pad' in Series.pct_change is deprecated and will be removed in a future version. Either fill in any non-leading NA values prior to calling pct_change or specify 'fill_method=None' to not fill NA values.\n",
      "  indicators['percent_return'] = calc_mean(ta.percent_return(p.close))\n",
      "/Users/stephanie/src/N-LASR-model/SMB/calc_features.py:58: FutureWarning: The default fill_method='pad' in Series.pct_change is deprecated and will be removed in a future version. Either fill in any non-leading NA values prior to calling pct_change or specify 'fill_method=None' to not fill NA values.\n",
      "  indicators['percent_return'] = calc_mean(ta.percent_return(p.close))\n",
      "/Users/stephanie/src/N-LASR-model/SMB/calc_features.py:58: FutureWarning: The default fill_method='pad' in Series.pct_change is deprecated and will be removed in a future version. Either fill in any non-leading NA values prior to calling pct_change or specify 'fill_method=None' to not fill NA values.\n",
      "  indicators['percent_return'] = calc_mean(ta.percent_return(p.close))\n",
      "/Users/stephanie/src/N-LASR-model/SMB/calc_features.py:58: FutureWarning: The default fill_method='pad' in Series.pct_change is deprecated and will be removed in a future version. Either fill in any non-leading NA values prior to calling pct_change or specify 'fill_method=None' to not fill NA values.\n",
      "  indicators['percent_return'] = calc_mean(ta.percent_return(p.close))\n",
      "/Users/stephanie/src/N-LASR-model/SMB/calc_features.py:58: FutureWarning: The default fill_method='pad' in Series.pct_change is deprecated and will be removed in a future version. Either fill in any non-leading NA values prior to calling pct_change or specify 'fill_method=None' to not fill NA values.\n",
      "  indicators['percent_return'] = calc_mean(ta.percent_return(p.close))\n",
      "/Users/stephanie/src/N-LASR-model/SMB/calc_features.py:58: FutureWarning: The default fill_method='pad' in Series.pct_change is deprecated and will be removed in a future version. Either fill in any non-leading NA values prior to calling pct_change or specify 'fill_method=None' to not fill NA values.\n",
      "  indicators['percent_return'] = calc_mean(ta.percent_return(p.close))\n",
      "/Users/stephanie/src/N-LASR-model/SMB/calc_features.py:58: FutureWarning: The default fill_method='pad' in Series.pct_change is deprecated and will be removed in a future version. Either fill in any non-leading NA values prior to calling pct_change or specify 'fill_method=None' to not fill NA values.\n",
      "  indicators['percent_return'] = calc_mean(ta.percent_return(p.close))\n",
      "/Users/stephanie/src/N-LASR-model/SMB/calc_features.py:58: FutureWarning: The default fill_method='pad' in Series.pct_change is deprecated and will be removed in a future version. Either fill in any non-leading NA values prior to calling pct_change or specify 'fill_method=None' to not fill NA values.\n",
      "  indicators['percent_return'] = calc_mean(ta.percent_return(p.close))\n",
      "/Users/stephanie/src/N-LASR-model/SMB/calc_features.py:58: FutureWarning: The default fill_method='pad' in Series.pct_change is deprecated and will be removed in a future version. Either fill in any non-leading NA values prior to calling pct_change or specify 'fill_method=None' to not fill NA values.\n",
      "  indicators['percent_return'] = calc_mean(ta.percent_return(p.close))\n",
      "/Users/stephanie/src/N-LASR-model/SMB/calc_features.py:58: FutureWarning: The default fill_method='pad' in Series.pct_change is deprecated and will be removed in a future version. Either fill in any non-leading NA values prior to calling pct_change or specify 'fill_method=None' to not fill NA values.\n",
      "  indicators['percent_return'] = calc_mean(ta.percent_return(p.close))\n",
      "/Users/stephanie/src/N-LASR-model/SMB/calc_features.py:58: FutureWarning: The default fill_method='pad' in Series.pct_change is deprecated and will be removed in a future version. Either fill in any non-leading NA values prior to calling pct_change or specify 'fill_method=None' to not fill NA values.\n",
      "  indicators['percent_return'] = calc_mean(ta.percent_return(p.close))\n",
      "/Users/stephanie/src/N-LASR-model/SMB/calc_features.py:58: FutureWarning: The default fill_method='pad' in Series.pct_change is deprecated and will be removed in a future version. Either fill in any non-leading NA values prior to calling pct_change or specify 'fill_method=None' to not fill NA values.\n",
      "  indicators['percent_return'] = calc_mean(ta.percent_return(p.close))\n",
      "/Users/stephanie/src/N-LASR-model/SMB/calc_features.py:58: FutureWarning: The default fill_method='pad' in Series.pct_change is deprecated and will be removed in a future version. Either fill in any non-leading NA values prior to calling pct_change or specify 'fill_method=None' to not fill NA values.\n",
      "  indicators['percent_return'] = calc_mean(ta.percent_return(p.close))\n",
      "/Users/stephanie/src/N-LASR-model/SMB/calc_features.py:58: FutureWarning: The default fill_method='pad' in Series.pct_change is deprecated and will be removed in a future version. Either fill in any non-leading NA values prior to calling pct_change or specify 'fill_method=None' to not fill NA values.\n",
      "  indicators['percent_return'] = calc_mean(ta.percent_return(p.close))\n",
      "/Users/stephanie/src/N-LASR-model/SMB/calc_features.py:58: FutureWarning: The default fill_method='pad' in Series.pct_change is deprecated and will be removed in a future version. Either fill in any non-leading NA values prior to calling pct_change or specify 'fill_method=None' to not fill NA values.\n",
      "  indicators['percent_return'] = calc_mean(ta.percent_return(p.close))\n",
      "/Users/stephanie/src/N-LASR-model/SMB/calc_features.py:58: FutureWarning: The default fill_method='pad' in Series.pct_change is deprecated and will be removed in a future version. Either fill in any non-leading NA values prior to calling pct_change or specify 'fill_method=None' to not fill NA values.\n",
      "  indicators['percent_return'] = calc_mean(ta.percent_return(p.close))\n",
      "/Users/stephanie/src/N-LASR-model/SMB/calc_features.py:58: FutureWarning: The default fill_method='pad' in Series.pct_change is deprecated and will be removed in a future version. Either fill in any non-leading NA values prior to calling pct_change or specify 'fill_method=None' to not fill NA values.\n",
      "  indicators['percent_return'] = calc_mean(ta.percent_return(p.close))\n",
      "/Users/stephanie/src/N-LASR-model/SMB/calc_features.py:58: FutureWarning: The default fill_method='pad' in Series.pct_change is deprecated and will be removed in a future version. Either fill in any non-leading NA values prior to calling pct_change or specify 'fill_method=None' to not fill NA values.\n",
      "  indicators['percent_return'] = calc_mean(ta.percent_return(p.close))\n",
      "/Users/stephanie/src/N-LASR-model/SMB/calc_features.py:58: FutureWarning: The default fill_method='pad' in Series.pct_change is deprecated and will be removed in a future version. Either fill in any non-leading NA values prior to calling pct_change or specify 'fill_method=None' to not fill NA values.\n",
      "  indicators['percent_return'] = calc_mean(ta.percent_return(p.close))\n",
      "/Users/stephanie/src/N-LASR-model/SMB/calc_features.py:58: FutureWarning: The default fill_method='pad' in Series.pct_change is deprecated and will be removed in a future version. Either fill in any non-leading NA values prior to calling pct_change or specify 'fill_method=None' to not fill NA values.\n",
      "  indicators['percent_return'] = calc_mean(ta.percent_return(p.close))\n",
      "/Users/stephanie/src/N-LASR-model/SMB/calc_features.py:58: FutureWarning: The default fill_method='pad' in Series.pct_change is deprecated and will be removed in a future version. Either fill in any non-leading NA values prior to calling pct_change or specify 'fill_method=None' to not fill NA values.\n",
      "  indicators['percent_return'] = calc_mean(ta.percent_return(p.close))\n",
      "/Users/stephanie/src/N-LASR-model/SMB/calc_features.py:58: FutureWarning: The default fill_method='pad' in Series.pct_change is deprecated and will be removed in a future version. Either fill in any non-leading NA values prior to calling pct_change or specify 'fill_method=None' to not fill NA values.\n",
      "  indicators['percent_return'] = calc_mean(ta.percent_return(p.close))\n",
      "/Users/stephanie/src/N-LASR-model/SMB/calc_features.py:58: FutureWarning: The default fill_method='pad' in Series.pct_change is deprecated and will be removed in a future version. Either fill in any non-leading NA values prior to calling pct_change or specify 'fill_method=None' to not fill NA values.\n",
      "  indicators['percent_return'] = calc_mean(ta.percent_return(p.close))\n",
      "/Users/stephanie/src/N-LASR-model/SMB/calc_features.py:58: FutureWarning: The default fill_method='pad' in Series.pct_change is deprecated and will be removed in a future version. Either fill in any non-leading NA values prior to calling pct_change or specify 'fill_method=None' to not fill NA values.\n",
      "  indicators['percent_return'] = calc_mean(ta.percent_return(p.close))\n",
      "/Users/stephanie/src/N-LASR-model/SMB/calc_features.py:58: FutureWarning: The default fill_method='pad' in Series.pct_change is deprecated and will be removed in a future version. Either fill in any non-leading NA values prior to calling pct_change or specify 'fill_method=None' to not fill NA values.\n",
      "  indicators['percent_return'] = calc_mean(ta.percent_return(p.close))\n",
      "/Users/stephanie/src/N-LASR-model/SMB/calc_features.py:58: FutureWarning: The default fill_method='pad' in Series.pct_change is deprecated and will be removed in a future version. Either fill in any non-leading NA values prior to calling pct_change or specify 'fill_method=None' to not fill NA values.\n",
      "  indicators['percent_return'] = calc_mean(ta.percent_return(p.close))\n",
      "/Users/stephanie/src/N-LASR-model/SMB/calc_features.py:58: FutureWarning: The default fill_method='pad' in Series.pct_change is deprecated and will be removed in a future version. Either fill in any non-leading NA values prior to calling pct_change or specify 'fill_method=None' to not fill NA values.\n",
      "  indicators['percent_return'] = calc_mean(ta.percent_return(p.close))\n",
      "/Users/stephanie/src/N-LASR-model/SMB/calc_features.py:58: FutureWarning: The default fill_method='pad' in Series.pct_change is deprecated and will be removed in a future version. Either fill in any non-leading NA values prior to calling pct_change or specify 'fill_method=None' to not fill NA values.\n",
      "  indicators['percent_return'] = calc_mean(ta.percent_return(p.close))\n",
      "/Users/stephanie/src/N-LASR-model/SMB/calc_features.py:58: FutureWarning: The default fill_method='pad' in Series.pct_change is deprecated and will be removed in a future version. Either fill in any non-leading NA values prior to calling pct_change or specify 'fill_method=None' to not fill NA values.\n",
      "  indicators['percent_return'] = calc_mean(ta.percent_return(p.close))\n",
      "/Users/stephanie/src/N-LASR-model/SMB/calc_features.py:58: FutureWarning: The default fill_method='pad' in Series.pct_change is deprecated and will be removed in a future version. Either fill in any non-leading NA values prior to calling pct_change or specify 'fill_method=None' to not fill NA values.\n",
      "  indicators['percent_return'] = calc_mean(ta.percent_return(p.close))\n",
      "/Users/stephanie/src/N-LASR-model/SMB/calc_features.py:58: FutureWarning: The default fill_method='pad' in Series.pct_change is deprecated and will be removed in a future version. Either fill in any non-leading NA values prior to calling pct_change or specify 'fill_method=None' to not fill NA values.\n",
      "  indicators['percent_return'] = calc_mean(ta.percent_return(p.close))\n",
      "/Users/stephanie/src/N-LASR-model/SMB/calc_features.py:58: FutureWarning: The default fill_method='pad' in Series.pct_change is deprecated and will be removed in a future version. Either fill in any non-leading NA values prior to calling pct_change or specify 'fill_method=None' to not fill NA values.\n",
      "  indicators['percent_return'] = calc_mean(ta.percent_return(p.close))\n",
      "/Users/stephanie/src/N-LASR-model/SMB/calc_features.py:58: FutureWarning: The default fill_method='pad' in Series.pct_change is deprecated and will be removed in a future version. Either fill in any non-leading NA values prior to calling pct_change or specify 'fill_method=None' to not fill NA values.\n",
      "  indicators['percent_return'] = calc_mean(ta.percent_return(p.close))\n",
      "/Users/stephanie/src/N-LASR-model/SMB/calc_features.py:58: FutureWarning: The default fill_method='pad' in Series.pct_change is deprecated and will be removed in a future version. Either fill in any non-leading NA values prior to calling pct_change or specify 'fill_method=None' to not fill NA values.\n",
      "  indicators['percent_return'] = calc_mean(ta.percent_return(p.close))\n",
      "/Users/stephanie/src/N-LASR-model/SMB/calc_features.py:58: FutureWarning: The default fill_method='pad' in Series.pct_change is deprecated and will be removed in a future version. Either fill in any non-leading NA values prior to calling pct_change or specify 'fill_method=None' to not fill NA values.\n",
      "  indicators['percent_return'] = calc_mean(ta.percent_return(p.close))\n",
      "/Users/stephanie/src/N-LASR-model/SMB/calc_features.py:58: FutureWarning: The default fill_method='pad' in Series.pct_change is deprecated and will be removed in a future version. Either fill in any non-leading NA values prior to calling pct_change or specify 'fill_method=None' to not fill NA values.\n",
      "  indicators['percent_return'] = calc_mean(ta.percent_return(p.close))\n",
      "/Users/stephanie/src/N-LASR-model/SMB/calc_features.py:58: FutureWarning: The default fill_method='pad' in Series.pct_change is deprecated and will be removed in a future version. Either fill in any non-leading NA values prior to calling pct_change or specify 'fill_method=None' to not fill NA values.\n",
      "  indicators['percent_return'] = calc_mean(ta.percent_return(p.close))\n",
      "/Users/stephanie/src/N-LASR-model/SMB/calc_features.py:58: FutureWarning: The default fill_method='pad' in Series.pct_change is deprecated and will be removed in a future version. Either fill in any non-leading NA values prior to calling pct_change or specify 'fill_method=None' to not fill NA values.\n",
      "  indicators['percent_return'] = calc_mean(ta.percent_return(p.close))\n",
      "/Users/stephanie/src/N-LASR-model/SMB/calc_features.py:58: FutureWarning: The default fill_method='pad' in Series.pct_change is deprecated and will be removed in a future version. Either fill in any non-leading NA values prior to calling pct_change or specify 'fill_method=None' to not fill NA values.\n",
      "  indicators['percent_return'] = calc_mean(ta.percent_return(p.close))\n",
      "/Users/stephanie/src/N-LASR-model/SMB/calc_features.py:58: FutureWarning: The default fill_method='pad' in Series.pct_change is deprecated and will be removed in a future version. Either fill in any non-leading NA values prior to calling pct_change or specify 'fill_method=None' to not fill NA values.\n",
      "  indicators['percent_return'] = calc_mean(ta.percent_return(p.close))\n",
      "/Users/stephanie/src/N-LASR-model/SMB/calc_features.py:58: FutureWarning: The default fill_method='pad' in Series.pct_change is deprecated and will be removed in a future version. Either fill in any non-leading NA values prior to calling pct_change or specify 'fill_method=None' to not fill NA values.\n",
      "  indicators['percent_return'] = calc_mean(ta.percent_return(p.close))\n",
      "/Users/stephanie/src/N-LASR-model/SMB/calc_features.py:58: FutureWarning: The default fill_method='pad' in Series.pct_change is deprecated and will be removed in a future version. Either fill in any non-leading NA values prior to calling pct_change or specify 'fill_method=None' to not fill NA values.\n",
      "  indicators['percent_return'] = calc_mean(ta.percent_return(p.close))\n",
      "/Users/stephanie/src/N-LASR-model/SMB/calc_features.py:58: FutureWarning: The default fill_method='pad' in Series.pct_change is deprecated and will be removed in a future version. Either fill in any non-leading NA values prior to calling pct_change or specify 'fill_method=None' to not fill NA values.\n",
      "  indicators['percent_return'] = calc_mean(ta.percent_return(p.close))\n",
      "/Users/stephanie/src/N-LASR-model/SMB/calc_features.py:58: FutureWarning: The default fill_method='pad' in Series.pct_change is deprecated and will be removed in a future version. Either fill in any non-leading NA values prior to calling pct_change or specify 'fill_method=None' to not fill NA values.\n",
      "  indicators['percent_return'] = calc_mean(ta.percent_return(p.close))\n",
      "/Users/stephanie/src/N-LASR-model/SMB/calc_features.py:58: FutureWarning: The default fill_method='pad' in Series.pct_change is deprecated and will be removed in a future version. Either fill in any non-leading NA values prior to calling pct_change or specify 'fill_method=None' to not fill NA values.\n",
      "  indicators['percent_return'] = calc_mean(ta.percent_return(p.close))\n",
      "/Users/stephanie/src/N-LASR-model/SMB/calc_features.py:58: FutureWarning: The default fill_method='pad' in Series.pct_change is deprecated and will be removed in a future version. Either fill in any non-leading NA values prior to calling pct_change or specify 'fill_method=None' to not fill NA values.\n",
      "  indicators['percent_return'] = calc_mean(ta.percent_return(p.close))\n",
      "/Users/stephanie/src/N-LASR-model/SMB/calc_features.py:58: FutureWarning: The default fill_method='pad' in Series.pct_change is deprecated and will be removed in a future version. Either fill in any non-leading NA values prior to calling pct_change or specify 'fill_method=None' to not fill NA values.\n",
      "  indicators['percent_return'] = calc_mean(ta.percent_return(p.close))\n",
      "/Users/stephanie/src/N-LASR-model/SMB/calc_features.py:58: FutureWarning: The default fill_method='pad' in Series.pct_change is deprecated and will be removed in a future version. Either fill in any non-leading NA values prior to calling pct_change or specify 'fill_method=None' to not fill NA values.\n",
      "  indicators['percent_return'] = calc_mean(ta.percent_return(p.close))\n",
      "/Users/stephanie/src/N-LASR-model/SMB/calc_features.py:58: FutureWarning: The default fill_method='pad' in Series.pct_change is deprecated and will be removed in a future version. Either fill in any non-leading NA values prior to calling pct_change or specify 'fill_method=None' to not fill NA values.\n",
      "  indicators['percent_return'] = calc_mean(ta.percent_return(p.close))\n",
      "/Users/stephanie/src/N-LASR-model/SMB/calc_features.py:58: FutureWarning: The default fill_method='pad' in Series.pct_change is deprecated and will be removed in a future version. Either fill in any non-leading NA values prior to calling pct_change or specify 'fill_method=None' to not fill NA values.\n",
      "  indicators['percent_return'] = calc_mean(ta.percent_return(p.close))\n",
      "/Users/stephanie/src/N-LASR-model/SMB/calc_features.py:58: FutureWarning: The default fill_method='pad' in Series.pct_change is deprecated and will be removed in a future version. Either fill in any non-leading NA values prior to calling pct_change or specify 'fill_method=None' to not fill NA values.\n",
      "  indicators['percent_return'] = calc_mean(ta.percent_return(p.close))\n",
      "/Users/stephanie/src/N-LASR-model/SMB/calc_features.py:58: FutureWarning: The default fill_method='pad' in Series.pct_change is deprecated and will be removed in a future version. Either fill in any non-leading NA values prior to calling pct_change or specify 'fill_method=None' to not fill NA values.\n",
      "  indicators['percent_return'] = calc_mean(ta.percent_return(p.close))\n",
      "/Users/stephanie/src/N-LASR-model/SMB/calc_features.py:58: FutureWarning: The default fill_method='pad' in Series.pct_change is deprecated and will be removed in a future version. Either fill in any non-leading NA values prior to calling pct_change or specify 'fill_method=None' to not fill NA values.\n",
      "  indicators['percent_return'] = calc_mean(ta.percent_return(p.close))\n",
      "/Users/stephanie/src/N-LASR-model/SMB/calc_features.py:58: FutureWarning: The default fill_method='pad' in Series.pct_change is deprecated and will be removed in a future version. Either fill in any non-leading NA values prior to calling pct_change or specify 'fill_method=None' to not fill NA values.\n",
      "  indicators['percent_return'] = calc_mean(ta.percent_return(p.close))\n",
      "/Users/stephanie/src/N-LASR-model/SMB/calc_features.py:58: FutureWarning: The default fill_method='pad' in Series.pct_change is deprecated and will be removed in a future version. Either fill in any non-leading NA values prior to calling pct_change or specify 'fill_method=None' to not fill NA values.\n",
      "  indicators['percent_return'] = calc_mean(ta.percent_return(p.close))\n",
      "/Users/stephanie/src/N-LASR-model/SMB/calc_features.py:58: FutureWarning: The default fill_method='pad' in Series.pct_change is deprecated and will be removed in a future version. Either fill in any non-leading NA values prior to calling pct_change or specify 'fill_method=None' to not fill NA values.\n",
      "  indicators['percent_return'] = calc_mean(ta.percent_return(p.close))\n",
      "/Users/stephanie/src/N-LASR-model/SMB/calc_features.py:58: FutureWarning: The default fill_method='pad' in Series.pct_change is deprecated and will be removed in a future version. Either fill in any non-leading NA values prior to calling pct_change or specify 'fill_method=None' to not fill NA values.\n",
      "  indicators['percent_return'] = calc_mean(ta.percent_return(p.close))\n",
      "/Users/stephanie/src/N-LASR-model/SMB/calc_features.py:58: FutureWarning: The default fill_method='pad' in Series.pct_change is deprecated and will be removed in a future version. Either fill in any non-leading NA values prior to calling pct_change or specify 'fill_method=None' to not fill NA values.\n",
      "  indicators['percent_return'] = calc_mean(ta.percent_return(p.close))\n",
      "/Users/stephanie/src/N-LASR-model/SMB/calc_features.py:58: FutureWarning: The default fill_method='pad' in Series.pct_change is deprecated and will be removed in a future version. Either fill in any non-leading NA values prior to calling pct_change or specify 'fill_method=None' to not fill NA values.\n",
      "  indicators['percent_return'] = calc_mean(ta.percent_return(p.close))\n",
      "/Users/stephanie/src/N-LASR-model/SMB/calc_features.py:58: FutureWarning: The default fill_method='pad' in Series.pct_change is deprecated and will be removed in a future version. Either fill in any non-leading NA values prior to calling pct_change or specify 'fill_method=None' to not fill NA values.\n",
      "  indicators['percent_return'] = calc_mean(ta.percent_return(p.close))\n",
      "/Users/stephanie/src/N-LASR-model/SMB/calc_features.py:58: FutureWarning: The default fill_method='pad' in Series.pct_change is deprecated and will be removed in a future version. Either fill in any non-leading NA values prior to calling pct_change or specify 'fill_method=None' to not fill NA values.\n",
      "  indicators['percent_return'] = calc_mean(ta.percent_return(p.close))\n",
      "/Users/stephanie/src/N-LASR-model/SMB/calc_features.py:58: FutureWarning: The default fill_method='pad' in Series.pct_change is deprecated and will be removed in a future version. Either fill in any non-leading NA values prior to calling pct_change or specify 'fill_method=None' to not fill NA values.\n",
      "  indicators['percent_return'] = calc_mean(ta.percent_return(p.close))\n",
      "/Users/stephanie/src/N-LASR-model/SMB/calc_features.py:58: FutureWarning: The default fill_method='pad' in Series.pct_change is deprecated and will be removed in a future version. Either fill in any non-leading NA values prior to calling pct_change or specify 'fill_method=None' to not fill NA values.\n",
      "  indicators['percent_return'] = calc_mean(ta.percent_return(p.close))\n",
      "/Users/stephanie/src/N-LASR-model/SMB/calc_features.py:58: FutureWarning: The default fill_method='pad' in Series.pct_change is deprecated and will be removed in a future version. Either fill in any non-leading NA values prior to calling pct_change or specify 'fill_method=None' to not fill NA values.\n",
      "  indicators['percent_return'] = calc_mean(ta.percent_return(p.close))\n",
      "/Users/stephanie/src/N-LASR-model/SMB/calc_features.py:58: FutureWarning: The default fill_method='pad' in Series.pct_change is deprecated and will be removed in a future version. Either fill in any non-leading NA values prior to calling pct_change or specify 'fill_method=None' to not fill NA values.\n",
      "  indicators['percent_return'] = calc_mean(ta.percent_return(p.close))\n",
      "/Users/stephanie/src/N-LASR-model/SMB/calc_features.py:58: FutureWarning: The default fill_method='pad' in Series.pct_change is deprecated and will be removed in a future version. Either fill in any non-leading NA values prior to calling pct_change or specify 'fill_method=None' to not fill NA values.\n",
      "  indicators['percent_return'] = calc_mean(ta.percent_return(p.close))\n",
      "/Users/stephanie/src/N-LASR-model/SMB/calc_features.py:58: FutureWarning: The default fill_method='pad' in Series.pct_change is deprecated and will be removed in a future version. Either fill in any non-leading NA values prior to calling pct_change or specify 'fill_method=None' to not fill NA values.\n",
      "  indicators['percent_return'] = calc_mean(ta.percent_return(p.close))\n",
      "/Users/stephanie/src/N-LASR-model/SMB/calc_features.py:58: FutureWarning: The default fill_method='pad' in Series.pct_change is deprecated and will be removed in a future version. Either fill in any non-leading NA values prior to calling pct_change or specify 'fill_method=None' to not fill NA values.\n",
      "  indicators['percent_return'] = calc_mean(ta.percent_return(p.close))\n",
      "/Users/stephanie/src/N-LASR-model/SMB/calc_features.py:58: FutureWarning: The default fill_method='pad' in Series.pct_change is deprecated and will be removed in a future version. Either fill in any non-leading NA values prior to calling pct_change or specify 'fill_method=None' to not fill NA values.\n",
      "  indicators['percent_return'] = calc_mean(ta.percent_return(p.close))\n",
      "/Users/stephanie/src/N-LASR-model/SMB/calc_features.py:58: FutureWarning: The default fill_method='pad' in Series.pct_change is deprecated and will be removed in a future version. Either fill in any non-leading NA values prior to calling pct_change or specify 'fill_method=None' to not fill NA values.\n",
      "  indicators['percent_return'] = calc_mean(ta.percent_return(p.close))\n",
      "/Users/stephanie/src/N-LASR-model/SMB/calc_features.py:58: FutureWarning: The default fill_method='pad' in Series.pct_change is deprecated and will be removed in a future version. Either fill in any non-leading NA values prior to calling pct_change or specify 'fill_method=None' to not fill NA values.\n",
      "  indicators['percent_return'] = calc_mean(ta.percent_return(p.close))\n",
      "/Users/stephanie/src/N-LASR-model/SMB/calc_features.py:58: FutureWarning: The default fill_method='pad' in Series.pct_change is deprecated and will be removed in a future version. Either fill in any non-leading NA values prior to calling pct_change or specify 'fill_method=None' to not fill NA values.\n",
      "  indicators['percent_return'] = calc_mean(ta.percent_return(p.close))\n",
      "/Users/stephanie/src/N-LASR-model/SMB/calc_features.py:58: FutureWarning: The default fill_method='pad' in Series.pct_change is deprecated and will be removed in a future version. Either fill in any non-leading NA values prior to calling pct_change or specify 'fill_method=None' to not fill NA values.\n",
      "  indicators['percent_return'] = calc_mean(ta.percent_return(p.close))\n",
      "/Users/stephanie/src/N-LASR-model/SMB/calc_features.py:58: FutureWarning: The default fill_method='pad' in Series.pct_change is deprecated and will be removed in a future version. Either fill in any non-leading NA values prior to calling pct_change or specify 'fill_method=None' to not fill NA values.\n",
      "  indicators['percent_return'] = calc_mean(ta.percent_return(p.close))\n",
      "/Users/stephanie/src/N-LASR-model/SMB/calc_features.py:58: FutureWarning: The default fill_method='pad' in Series.pct_change is deprecated and will be removed in a future version. Either fill in any non-leading NA values prior to calling pct_change or specify 'fill_method=None' to not fill NA values.\n",
      "  indicators['percent_return'] = calc_mean(ta.percent_return(p.close))\n",
      "/Users/stephanie/src/N-LASR-model/SMB/calc_features.py:58: FutureWarning: The default fill_method='pad' in Series.pct_change is deprecated and will be removed in a future version. Either fill in any non-leading NA values prior to calling pct_change or specify 'fill_method=None' to not fill NA values.\n",
      "  indicators['percent_return'] = calc_mean(ta.percent_return(p.close))\n",
      "/Users/stephanie/src/N-LASR-model/SMB/calc_features.py:58: FutureWarning: The default fill_method='pad' in Series.pct_change is deprecated and will be removed in a future version. Either fill in any non-leading NA values prior to calling pct_change or specify 'fill_method=None' to not fill NA values.\n",
      "  indicators['percent_return'] = calc_mean(ta.percent_return(p.close))\n",
      "/Users/stephanie/src/N-LASR-model/SMB/calc_features.py:58: FutureWarning: The default fill_method='pad' in Series.pct_change is deprecated and will be removed in a future version. Either fill in any non-leading NA values prior to calling pct_change or specify 'fill_method=None' to not fill NA values.\n",
      "  indicators['percent_return'] = calc_mean(ta.percent_return(p.close))\n",
      "/Users/stephanie/src/N-LASR-model/SMB/calc_features.py:58: FutureWarning: The default fill_method='pad' in Series.pct_change is deprecated and will be removed in a future version. Either fill in any non-leading NA values prior to calling pct_change or specify 'fill_method=None' to not fill NA values.\n",
      "  indicators['percent_return'] = calc_mean(ta.percent_return(p.close))\n",
      "/Users/stephanie/src/N-LASR-model/SMB/calc_features.py:58: FutureWarning: The default fill_method='pad' in Series.pct_change is deprecated and will be removed in a future version. Either fill in any non-leading NA values prior to calling pct_change or specify 'fill_method=None' to not fill NA values.\n",
      "  indicators['percent_return'] = calc_mean(ta.percent_return(p.close))\n",
      "/Users/stephanie/src/N-LASR-model/SMB/calc_features.py:58: FutureWarning: The default fill_method='pad' in Series.pct_change is deprecated and will be removed in a future version. Either fill in any non-leading NA values prior to calling pct_change or specify 'fill_method=None' to not fill NA values.\n",
      "  indicators['percent_return'] = calc_mean(ta.percent_return(p.close))\n",
      "/Users/stephanie/src/N-LASR-model/SMB/calc_features.py:58: FutureWarning: The default fill_method='pad' in Series.pct_change is deprecated and will be removed in a future version. Either fill in any non-leading NA values prior to calling pct_change or specify 'fill_method=None' to not fill NA values.\n",
      "  indicators['percent_return'] = calc_mean(ta.percent_return(p.close))\n",
      "/Users/stephanie/src/N-LASR-model/SMB/calc_features.py:58: FutureWarning: The default fill_method='pad' in Series.pct_change is deprecated and will be removed in a future version. Either fill in any non-leading NA values prior to calling pct_change or specify 'fill_method=None' to not fill NA values.\n",
      "  indicators['percent_return'] = calc_mean(ta.percent_return(p.close))\n",
      "/Users/stephanie/src/N-LASR-model/SMB/calc_features.py:58: FutureWarning: The default fill_method='pad' in Series.pct_change is deprecated and will be removed in a future version. Either fill in any non-leading NA values prior to calling pct_change or specify 'fill_method=None' to not fill NA values.\n",
      "  indicators['percent_return'] = calc_mean(ta.percent_return(p.close))\n",
      "/Users/stephanie/src/N-LASR-model/SMB/calc_features.py:58: FutureWarning: The default fill_method='pad' in Series.pct_change is deprecated and will be removed in a future version. Either fill in any non-leading NA values prior to calling pct_change or specify 'fill_method=None' to not fill NA values.\n",
      "  indicators['percent_return'] = calc_mean(ta.percent_return(p.close))\n",
      "/Users/stephanie/src/N-LASR-model/SMB/calc_features.py:58: FutureWarning: The default fill_method='pad' in Series.pct_change is deprecated and will be removed in a future version. Either fill in any non-leading NA values prior to calling pct_change or specify 'fill_method=None' to not fill NA values.\n",
      "  indicators['percent_return'] = calc_mean(ta.percent_return(p.close))\n",
      "/Users/stephanie/src/N-LASR-model/SMB/calc_features.py:58: FutureWarning: The default fill_method='pad' in Series.pct_change is deprecated and will be removed in a future version. Either fill in any non-leading NA values prior to calling pct_change or specify 'fill_method=None' to not fill NA values.\n",
      "  indicators['percent_return'] = calc_mean(ta.percent_return(p.close))\n",
      "/Users/stephanie/src/N-LASR-model/SMB/calc_features.py:58: FutureWarning: The default fill_method='pad' in Series.pct_change is deprecated and will be removed in a future version. Either fill in any non-leading NA values prior to calling pct_change or specify 'fill_method=None' to not fill NA values.\n",
      "  indicators['percent_return'] = calc_mean(ta.percent_return(p.close))\n",
      "/Users/stephanie/src/N-LASR-model/SMB/calc_features.py:58: FutureWarning: The default fill_method='pad' in Series.pct_change is deprecated and will be removed in a future version. Either fill in any non-leading NA values prior to calling pct_change or specify 'fill_method=None' to not fill NA values.\n",
      "  indicators['percent_return'] = calc_mean(ta.percent_return(p.close))\n",
      "/Users/stephanie/src/N-LASR-model/SMB/calc_features.py:58: FutureWarning: The default fill_method='pad' in Series.pct_change is deprecated and will be removed in a future version. Either fill in any non-leading NA values prior to calling pct_change or specify 'fill_method=None' to not fill NA values.\n",
      "  indicators['percent_return'] = calc_mean(ta.percent_return(p.close))\n",
      "/Users/stephanie/src/N-LASR-model/SMB/calc_features.py:58: FutureWarning: The default fill_method='pad' in Series.pct_change is deprecated and will be removed in a future version. Either fill in any non-leading NA values prior to calling pct_change or specify 'fill_method=None' to not fill NA values.\n",
      "  indicators['percent_return'] = calc_mean(ta.percent_return(p.close))\n",
      "/Users/stephanie/src/N-LASR-model/SMB/calc_features.py:58: FutureWarning: The default fill_method='pad' in Series.pct_change is deprecated and will be removed in a future version. Either fill in any non-leading NA values prior to calling pct_change or specify 'fill_method=None' to not fill NA values.\n",
      "  indicators['percent_return'] = calc_mean(ta.percent_return(p.close))\n",
      "/Users/stephanie/src/N-LASR-model/SMB/calc_features.py:58: FutureWarning: The default fill_method='pad' in Series.pct_change is deprecated and will be removed in a future version. Either fill in any non-leading NA values prior to calling pct_change or specify 'fill_method=None' to not fill NA values.\n",
      "  indicators['percent_return'] = calc_mean(ta.percent_return(p.close))\n",
      "/Users/stephanie/src/N-LASR-model/SMB/calc_features.py:58: FutureWarning: The default fill_method='pad' in Series.pct_change is deprecated and will be removed in a future version. Either fill in any non-leading NA values prior to calling pct_change or specify 'fill_method=None' to not fill NA values.\n",
      "  indicators['percent_return'] = calc_mean(ta.percent_return(p.close))\n",
      "/Users/stephanie/src/N-LASR-model/SMB/calc_features.py:58: FutureWarning: The default fill_method='pad' in Series.pct_change is deprecated and will be removed in a future version. Either fill in any non-leading NA values prior to calling pct_change or specify 'fill_method=None' to not fill NA values.\n",
      "  indicators['percent_return'] = calc_mean(ta.percent_return(p.close))\n",
      "/Users/stephanie/src/N-LASR-model/SMB/calc_features.py:58: FutureWarning: The default fill_method='pad' in Series.pct_change is deprecated and will be removed in a future version. Either fill in any non-leading NA values prior to calling pct_change or specify 'fill_method=None' to not fill NA values.\n",
      "  indicators['percent_return'] = calc_mean(ta.percent_return(p.close))\n",
      "/Users/stephanie/src/N-LASR-model/SMB/calc_features.py:58: FutureWarning: The default fill_method='pad' in Series.pct_change is deprecated and will be removed in a future version. Either fill in any non-leading NA values prior to calling pct_change or specify 'fill_method=None' to not fill NA values.\n",
      "  indicators['percent_return'] = calc_mean(ta.percent_return(p.close))\n",
      "/Users/stephanie/src/N-LASR-model/SMB/calc_features.py:58: FutureWarning: The default fill_method='pad' in Series.pct_change is deprecated and will be removed in a future version. Either fill in any non-leading NA values prior to calling pct_change or specify 'fill_method=None' to not fill NA values.\n",
      "  indicators['percent_return'] = calc_mean(ta.percent_return(p.close))\n",
      "/Users/stephanie/src/N-LASR-model/SMB/calc_features.py:58: FutureWarning: The default fill_method='pad' in Series.pct_change is deprecated and will be removed in a future version. Either fill in any non-leading NA values prior to calling pct_change or specify 'fill_method=None' to not fill NA values.\n",
      "  indicators['percent_return'] = calc_mean(ta.percent_return(p.close))\n",
      "/Users/stephanie/src/N-LASR-model/SMB/calc_features.py:58: FutureWarning: The default fill_method='pad' in Series.pct_change is deprecated and will be removed in a future version. Either fill in any non-leading NA values prior to calling pct_change or specify 'fill_method=None' to not fill NA values.\n",
      "  indicators['percent_return'] = calc_mean(ta.percent_return(p.close))\n",
      "/Users/stephanie/src/N-LASR-model/SMB/calc_features.py:58: FutureWarning: The default fill_method='pad' in Series.pct_change is deprecated and will be removed in a future version. Either fill in any non-leading NA values prior to calling pct_change or specify 'fill_method=None' to not fill NA values.\n",
      "  indicators['percent_return'] = calc_mean(ta.percent_return(p.close))\n",
      "/Users/stephanie/src/N-LASR-model/SMB/calc_features.py:58: FutureWarning: The default fill_method='pad' in Series.pct_change is deprecated and will be removed in a future version. Either fill in any non-leading NA values prior to calling pct_change or specify 'fill_method=None' to not fill NA values.\n",
      "  indicators['percent_return'] = calc_mean(ta.percent_return(p.close))\n",
      "/Users/stephanie/src/N-LASR-model/SMB/calc_features.py:58: FutureWarning: The default fill_method='pad' in Series.pct_change is deprecated and will be removed in a future version. Either fill in any non-leading NA values prior to calling pct_change or specify 'fill_method=None' to not fill NA values.\n",
      "  indicators['percent_return'] = calc_mean(ta.percent_return(p.close))\n",
      "/Users/stephanie/src/N-LASR-model/SMB/calc_features.py:58: FutureWarning: The default fill_method='pad' in Series.pct_change is deprecated and will be removed in a future version. Either fill in any non-leading NA values prior to calling pct_change or specify 'fill_method=None' to not fill NA values.\n",
      "  indicators['percent_return'] = calc_mean(ta.percent_return(p.close))\n"
     ]
    },
    {
     "name": "stdout",
     "output_type": "stream",
     "text": [
      "(1006, 8316)\n"
     ]
    }
   ],
   "execution_count": 3,
   "source": [
    "all_stock_indicators = calc_all_stock_indicators(data_weekdays_daily)\n",
    "print(all_stock_indicators.shape)\n",
    "all_stock_indicators.to_pickle('models_directory'+ 'all_stock_indicators.pkl')"
   ],
   "id": "c6e17c923b4d2527"
  },
  {
   "metadata": {},
   "cell_type": "code",
   "outputs": [],
   "execution_count": null,
   "source": "",
   "id": "bf5a9f9a9e20bc8f"
  },
  {
   "metadata": {
    "ExecuteTime": {
     "end_time": "2024-11-08T13:37:56.733876Z",
     "start_time": "2024-11-08T13:37:56.682009Z"
    }
   },
   "cell_type": "code",
   "source": "all_stock_indicators = pd.read_pickle('models_directory'+ 'all_stock_indicators.pkl')",
   "id": "9094d65193d9b841",
   "outputs": [],
   "execution_count": 2
  },
  {
   "metadata": {
    "ExecuteTime": {
     "end_time": "2024-11-08T13:37:57.955286Z",
     "start_time": "2024-11-08T13:37:57.951125Z"
    }
   },
   "cell_type": "code",
   "source": [
    "# NB the indicators are calculated using the close of the day!\n",
    "all_stock_indicators.index = all_stock_indicators.index + pd.DateOffset(days=1)"
   ],
   "id": "28132554de4bd781",
   "outputs": [],
   "execution_count": 3
  },
  {
   "metadata": {
    "ExecuteTime": {
     "end_time": "2024-11-08T14:55:42.960359Z",
     "start_time": "2024-11-08T14:55:42.953770Z"
    }
   },
   "cell_type": "code",
   "source": [
    "s = all_stock_indicators.iloc[100:101]\n",
    "rsi_values = s.xs('ema', level=1, axis=1)\n",
    "print(rsi_values.head)"
   ],
   "id": "e9a460b956008c40",
   "outputs": [
    {
     "name": "stdout",
     "output_type": "stream",
     "text": [
      "<bound method NDFrame.head of                 AAPL      ADBE       AIG      ALL       AMD      AMAT  \\\n",
      "date                                                                    \n",
      "2022-04-06  0.009004  0.012457  0.003535  0.00573  0.062131  0.079398   \n",
      "\n",
      "                AMGN      AMZN       AON      APD  ...       USB        V  \\\n",
      "date                                               ...                      \n",
      "2022-04-06 -0.006948  0.011727 -0.000523 -0.00663  ...  0.025371 -0.00616   \n",
      "\n",
      "               VRTX       WBA      WDAY       WFC       WMT       YUM  \\\n",
      "date                                                                    \n",
      "2022-04-06 -0.01419  0.041283  0.019501  0.033363 -0.007966  0.014777   \n",
      "\n",
      "                 ZBH        ZM  \n",
      "date                            \n",
      "2022-04-06 -0.013072  0.009136  \n",
      "\n",
      "[1 rows x 126 columns]>\n"
     ]
    }
   ],
   "execution_count": 24
  },
  {
   "metadata": {
    "ExecuteTime": {
     "end_time": "2024-11-08T14:52:27.457382Z",
     "start_time": "2024-11-08T14:52:27.436995Z"
    }
   },
   "cell_type": "code",
   "source": [
    "# axis = 0 by row\n",
    "# ranked_rsi = rsi_values.rank(axis=1, method='first', ascending=True)\n",
    "ranked_rsi = rsi_values.rank(\"columns\", method='first', ascending=False)\n",
    "              # .fillna(0).astype(int))\n",
    "# ranked_rsi = rsi_values.assign(**rsi_values.iloc[:, 0:].rank(axis=1, method='first', ascending=False).astype(int))\n",
    "\n",
    "print(ranked_rsi.shape)\n",
    "print(ranked_rsi.head)"
   ],
   "id": "50519e798a3fc2fd",
   "outputs": [
    {
     "name": "stdout",
     "output_type": "stream",
     "text": [
      "(20, 126)\n",
      "<bound method NDFrame.head of             AAPL  ADBE    AIG    ALL   AMD  AMAT   AMGN  AMZN    AON    APD  \\\n",
      "date                                                                          \n",
      "2022-04-06  71.0  58.0   89.0   83.0   2.0   1.0  108.0  59.0   96.0  107.0   \n",
      "2022-04-07  65.0  53.0   69.0   97.0  11.0   4.0  117.0  49.0  105.0   92.0   \n",
      "2022-04-08  68.0  69.0   72.0  104.0  12.0  24.0  106.0  37.0   98.0   88.0   \n",
      "2022-04-09   1.0   2.0    3.0    4.0   5.0   6.0    7.0   8.0    9.0   10.0   \n",
      "2022-04-10   1.0   2.0    3.0    4.0   5.0   6.0    7.0   8.0    9.0   10.0   \n",
      "2022-04-11  57.0  45.0   86.0  101.0   9.0  25.0  112.0  30.0   90.0   83.0   \n",
      "2022-04-12  34.0  65.0   86.0  117.0   2.0   7.0   99.0  17.0  114.0   88.0   \n",
      "2022-04-13  65.0  32.0   84.0  105.0   4.0  12.0  110.0  18.0   90.0   88.0   \n",
      "2022-04-14  78.0  43.0   69.0   77.0   9.0  13.0  113.0  50.0   71.0   74.0   \n",
      "2022-04-15   1.0   2.0    3.0    4.0   5.0   6.0    7.0   8.0    9.0   10.0   \n",
      "2022-04-16   1.0   2.0    3.0    4.0   5.0   6.0    7.0   8.0    9.0   10.0   \n",
      "2022-04-17   1.0   2.0    3.0    4.0   5.0   6.0    7.0   8.0    9.0   10.0   \n",
      "2022-04-18  38.0  20.0   78.0   83.0   3.0   9.0  106.0  42.0   86.0   69.0   \n",
      "2022-04-19  50.0  32.0  122.0   83.0   9.0  26.0  105.0  43.0   92.0   75.0   \n",
      "2022-04-20  42.0  85.0   60.0   49.0  36.0  99.0   48.0  74.0   51.0   50.0   \n",
      "2022-04-21  38.0  30.0   97.0   82.0  18.0  60.0   66.0  32.0   50.0   44.0   \n",
      "2022-04-22  66.0  39.0   74.0   57.0  18.0  45.0   90.0  27.0   86.0   89.0   \n",
      "2022-04-23   1.0   2.0    3.0    4.0   5.0   6.0    7.0   8.0    9.0   10.0   \n",
      "2022-04-24   1.0   2.0    3.0    4.0   5.0   6.0    7.0   8.0    9.0   10.0   \n",
      "2022-04-25  70.0  42.0   54.0   40.0  44.0  46.0  108.0  38.0   81.0   93.0   \n",
      "\n",
      "            ...    USB      V   VRTX    WBA   WDAY    WFC    WMT    YUM  \\\n",
      "date        ...                                                           \n",
      "2022-04-06  ...   36.0  105.0  121.0   13.0   41.0   22.0  112.0   52.0   \n",
      "2022-04-07  ...   74.0   67.0  124.0   66.0   27.0   61.0  125.0   77.0   \n",
      "2022-04-08  ...   44.0   38.0  113.0   78.0   55.0   51.0  119.0   73.0   \n",
      "2022-04-09  ...  117.0  118.0  119.0  120.0  121.0  122.0  123.0  124.0   \n",
      "2022-04-10  ...  117.0  118.0  119.0  120.0  121.0  122.0  123.0  124.0   \n",
      "2022-04-11  ...   46.0   50.0  122.0   85.0   32.0   72.0  116.0   75.0   \n",
      "2022-04-12  ...   12.0   60.0  124.0   55.0   63.0  109.0   96.0   72.0   \n",
      "2022-04-13  ...   26.0   38.0  125.0   83.0   48.0   43.0   93.0  101.0   \n",
      "2022-04-14  ...   36.0   32.0  123.0   48.0   38.0    2.0  111.0  103.0   \n",
      "2022-04-15  ...  117.0  118.0  119.0  120.0  121.0  122.0  123.0  124.0   \n",
      "2022-04-16  ...  117.0  118.0  119.0  120.0  121.0  122.0  123.0  124.0   \n",
      "2022-04-17  ...  117.0  118.0  119.0  120.0  121.0  122.0  123.0  124.0   \n",
      "2022-04-18  ...   99.0   48.0  125.0   94.0   34.0   12.0  117.0  110.0   \n",
      "2022-04-19  ...  115.0   71.0  113.0   88.0   23.0   62.0  111.0  118.0   \n",
      "2022-04-20  ...   80.0   68.0   54.0   78.0   40.0   53.0   73.0   98.0   \n",
      "2022-04-21  ...   72.0   65.0   61.0   95.0   19.0   89.0   79.0  104.0   \n",
      "2022-04-22  ...   78.0   87.0   76.0  120.0   25.0   63.0  114.0   96.0   \n",
      "2022-04-23  ...  117.0  118.0  119.0  120.0  121.0  122.0  123.0  124.0   \n",
      "2022-04-24  ...  117.0  118.0  119.0  120.0  121.0  122.0  123.0  124.0   \n",
      "2022-04-25  ...   68.0   53.0   73.0  107.0   24.0   57.0  110.0  106.0   \n",
      "\n",
      "              ZBH     ZM  \n",
      "date                      \n",
      "2022-04-06  120.0   70.0  \n",
      "2022-04-07   90.0   42.0  \n",
      "2022-04-08   96.0   23.0  \n",
      "2022-04-09  125.0  126.0  \n",
      "2022-04-10  125.0  126.0  \n",
      "2022-04-11   94.0   11.0  \n",
      "2022-04-12   69.0   32.0  \n",
      "2022-04-13   79.0    6.0  \n",
      "2022-04-14   80.0   98.0  \n",
      "2022-04-15  125.0  126.0  \n",
      "2022-04-16  125.0  126.0  \n",
      "2022-04-17  125.0  126.0  \n",
      "2022-04-18   72.0   57.0  \n",
      "2022-04-19   73.0   12.0  \n",
      "2022-04-20  104.0   27.0  \n",
      "2022-04-21  118.0   11.0  \n",
      "2022-04-22   93.0   17.0  \n",
      "2022-04-23  125.0  126.0  \n",
      "2022-04-24  125.0  126.0  \n",
      "2022-04-25   78.0   27.0  \n",
      "\n",
      "[20 rows x 126 columns]>\n"
     ]
    }
   ],
   "execution_count": 18
  },
  {
   "metadata": {
    "ExecuteTime": {
     "end_time": "2024-11-08T14:56:34.893402Z",
     "start_time": "2024-11-08T14:56:34.880318Z"
    }
   },
   "cell_type": "code",
   "source": [
    "def binned_sum_func(row):\n",
    "    bins, _ = pd.qcut(row, q=5, labels=[1,2,3,4,5], retbins=True, duplicates='drop')\n",
    "    return bins.value_counts()\n",
    "\n",
    "print(rsi_values.shape)\n",
    "rsi_values.dropna(axis=0)\n",
    "print(rsi_values.shape)\n",
    "binned_sum = rsi_values.apply(binned_sum_func, axis=1).fillna(0).astype(int)\n",
    "print(binned_sum)"
   ],
   "id": "1b8ca95259a3aa0",
   "outputs": [
    {
     "name": "stdout",
     "output_type": "stream",
     "text": [
      "(1, 126)\n",
      "(1, 126)\n",
      "2022-04-06 00:00:00   1   2   3   4   5\n",
      "date                                   \n",
      "2022-04-06           26  25  25  25  25\n"
     ]
    }
   ],
   "execution_count": 28
  },
  {
   "metadata": {},
   "cell_type": "code",
   "outputs": [],
   "execution_count": null,
   "source": "",
   "id": "84b9057727828d42"
  }
 ],
 "metadata": {
  "kernelspec": {
   "display_name": "Python 3",
   "language": "python",
   "name": "python3"
  },
  "language_info": {
   "codemirror_mode": {
    "name": "ipython",
    "version": 2
   },
   "file_extension": ".py",
   "mimetype": "text/x-python",
   "name": "python",
   "nbconvert_exporter": "python",
   "pygments_lexer": "ipython2",
   "version": "2.7.6"
  }
 },
 "nbformat": 4,
 "nbformat_minor": 5
}
