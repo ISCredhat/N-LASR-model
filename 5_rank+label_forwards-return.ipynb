{
 "cells": [
  {
   "cell_type": "code",
   "execution_count": null,
   "id": "dfb5f67b-eb50-48cb-9e48-61368e06eb32",
   "metadata": {},
   "outputs": [],
   "source": [
    "#labelling thresholds\n",
    "top_threshold = int(0.3 * num_stocks)\n",
    "bottom_threshold = int(0.7 * num_stocks)\n",
    "\n",
    "#ranking forward return, then labelling 1 or -1 or 0\n",
    "def rank_label_FR(matrix): \n",
    "    labeled_matrix = np.zeros((matrix.shape[0], matrix.shape[1], 1)) \n",
    "    for j in range(matrix.shape[1]): \n",
    "        values_at_time_j = matrix[:, j, -1]\n",
    "\n",
    "        ranked_values = pd.Series(values_at_time_j).rank()\n",
    "    \n",
    "        labeled_values = ranked_values.apply(\n",
    "            lambda x: 1 if x <= top_threshold else (-1 if x > bottom_threshold else 0))\n",
    "    \n",
    "        labeled_matrix[:, j, -1] = labeled_values.to_numpy()\n",
    "\n",
    "    return labeled_matrix\n",
    "\n",
    "print('Done')"
   ]
  },
  {
   "cell_type": "code",
   "execution_count": null,
   "id": "b154e315-4f3e-4435-9c72-77d365eaceb2",
   "metadata": {},
   "outputs": [],
   "source": [
    "labeled_matrix = np.concatenate((monday_matrix, rank_label_FR(monday_matrix)), axis = 2)[:, 2:, :]\n",
    "#remove first two mondays as they will contain nan values in their indicator calcs due to the way it is"
   ]
  }
 ],
 "metadata": {
  "kernelspec": {
   "display_name": "Python 3 (ipykernel)",
   "language": "python",
   "name": "python3"
  },
  "language_info": {
   "codemirror_mode": {
    "name": "ipython",
    "version": 3
   },
   "file_extension": ".py",
   "mimetype": "text/x-python",
   "name": "python",
   "nbconvert_exporter": "python",
   "pygments_lexer": "ipython3",
   "version": "3.12.4"
  }
 },
 "nbformat": 4,
 "nbformat_minor": 5
}
