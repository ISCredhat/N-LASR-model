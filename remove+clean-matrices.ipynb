{
 "cells": [
  {
   "cell_type": "code",
   "execution_count": null,
   "id": "03092eae-8bbd-47f7-84e0-530d315cb8c2",
   "metadata": {},
   "outputs": [],
   "source": [
    "def remove_fridays(matrix):\n",
    "    #5th column is day index\n",
    "    mask = matrix[:, :, 5] != 4\n",
    "    \n",
    "    cleaned_matrix = matrix[mask]\n",
    "    \n",
    "    cleaned_matrix = cleaned_matrix.reshape(matrix.shape[0], -1, matrix.shape[2])\n",
    "    \n",
    "    return cleaned_matrix\n",
    "\n",
    "print('Done')"
   ]
  },
  {
   "cell_type": "code",
   "execution_count": null,
   "id": "65b7a008-e3d2-4732-8d54-749ed82c16f7",
   "metadata": {},
   "outputs": [],
   "source": [
    "filter = (\n",
    "    ((quantiled_stocks_and_vals[:, :, 5] == 0) & (quantiled_stocks_and_vals[:, :, 6] == 14)) |\n",
    "    ((quantiled_stocks_and_vals[:, :, 5] == 4) & (quantiled_stocks_and_vals[:, :, 6] == 20))\n",
    ")\n",
    "\n",
    "mondays_fridays_matrix = quantiled_stocks_and_vals[filter]\n",
    "#have to reshape arrays after \n",
    "mondays_fridays_matrix = mondays_fridays_matrix.reshape(quantiled_stocks_and_vals.shape[0], -1, quantiled_stocks_and_vals.shape[2])\n",
    "\n",
    "# Remove initial row if it starts with a Friday, or last row if it ends with a Monday\n",
    "if mondays_fridays_matrix[0, 0, 5] == 4:\n",
    "    cleaned_matrix = mondays_fridays_matrix[:, 1:, :]\n",
    "elif mondays_fridays_matrix[0, -1, 5] == 0:\n",
    "    cleaned_matrix = mondays_fridays_matrix[:, :-1, :]\n",
    "else:\n",
    "    cleaned_matrix = mondays_fridays_matrix\n",
    "\n",
    "# Filter out consecutive Fridays\n",
    "rows_to_keep_fri = [True]\n",
    "for i in range(1, cleaned_matrix.shape[1]):\n",
    "    if cleaned_matrix[0, i, 5] == 4 and cleaned_matrix[0, i - 1, 5] == 4:\n",
    "        rows_to_keep_fri.append(False)\n",
    "    else:\n",
    "        rows_to_keep_fri.append(True)\n",
    "\n",
    "filtered_matrix_initial = cleaned_matrix[:, rows_to_keep_fri, :]\n",
    "\n",
    "# Ensure rows_to_keep_mon matches the exact number of rows\n",
    "rows_to_keep_mon = [True]  # Start with the first row always being kept\n",
    "for i in range(1, filtered_matrix_initial.shape[1]-1):\n",
    "    if filtered_matrix_initial[0, i, 5] == 0 and filtered_matrix_initial[0, i + 1, 5] == 0:\n",
    "        rows_to_keep_mon.append(False)\n",
    "    else:\n",
    "        rows_to_keep_mon.append(True)\n",
    "\n",
    "# Ensure the boolean mask length matches the dimension of filtered_matrix_initial\n",
    "if len(rows_to_keep_mon) != filtered_matrix_initial.shape[1]:\n",
    "    rows_to_keep_mon = rows_to_keep_mon[:filtered_matrix_initial.shape[1]]\n",
    "\n",
    "filtered_matrix_final = filtered_matrix_initial[:, rows_to_keep_mon, :]"
   ]
  },
  {
   "cell_type": "code",
   "execution_count": null,
   "id": "28715fa1-6761-460f-851e-cb6a082e4940",
   "metadata": {},
   "outputs": [],
   "source": [
    "monday_matrix = remove_fridays(matrix_with_FR)"
   ]
  },
  {
   "cell_type": "code",
   "execution_count": null,
   "id": "751198c8-68c5-41f3-a7e3-cfbbe6d7f98e",
   "metadata": {},
   "outputs": [],
   "source": []
  }
 ],
 "metadata": {
  "kernelspec": {
   "display_name": "Python 3 (ipykernel)",
   "language": "python",
   "name": "python3"
  },
  "language_info": {
   "codemirror_mode": {
    "name": "ipython",
    "version": 3
   },
   "file_extension": ".py",
   "mimetype": "text/x-python",
   "name": "python",
   "nbconvert_exporter": "python",
   "pygments_lexer": "ipython3",
   "version": "3.12.4"
  }
 },
 "nbformat": 4,
 "nbformat_minor": 5
}
