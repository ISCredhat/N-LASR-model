{
 "cells": [
  {
   "cell_type": "code",
   "execution_count": null,
   "id": "15e232bb-b02b-4927-b4b1-e73f5f8c298c",
   "metadata": {},
   "outputs": [],
   "source": [
    "def filter_labels(matrix):\n",
    "    filtered_labeled_matrix = []\n",
    "    filtered_training_matrix = []\n",
    "    for i in range(matrix.shape[0]):\n",
    "        mask = matrix[i, :-1, -1] != 0\n",
    "        \n",
    "        filtered_training_matrix.append(matrix[i, -1, -1])\n",
    "        \n",
    "        filtered_matrix = matrix[i, mask, :]\n",
    "\n",
    "        filtered_labeled_matrix.append(filtered_matrix)\n",
    "\n",
    "    total_filtered_matrix = np.concatenate(filtered_labeled_matrix, axis = 0)\n",
    "    training_matrix = np.concatenate(filtered_training_matrix, axis = 0)\n",
    "    \n",
    "    \n",
    "    return total_filtered_matrix, training_matrix\n",
    "\n",
    "print('Done')"
   ]
  },
  {
   "cell_type": "code",
   "execution_count": null,
   "id": "e71845d2-c919-4518-9f09-17b5fc32fb80",
   "metadata": {},
   "outputs": [],
   "source": [
    "# 7 onwars means that we only include quantile vals for each stock and fr return labels\n",
    "#unfortunately second to last row is raw fr vals, as such just need to remmber to ignore them later\n",
    "training_mat, prediction_mat = filter_labels(labeled_matrix)[:, 7:]\n",
    "#result mat is 2D, no need for 3D as do not need to differentiate when training until doing cross market \n",
    "\n",
    "X_train = training_mat[:, :-2]\n",
    "y_train = training_mat[:, -1]\n",
    "\n",
    "X_next_week = prediction_mat[:, :-2]\n",
    "\n",
    "y_train = y_train.astype(int)\n",
    "X_train = X_train.astype(int)\n",
    "X_next_week = X_next_week.astype(int)\n",
    "\n",
    "ada = AdaBoostClassifier(\n",
    "    estimator=DecisionTreeClassifier(max_depth=1),\n",
    "    n_estimators=80,\n",
    "    algorithm='SAMME',\n",
    "    learning_rate=1,\n",
    "    random_state=42\n",
    ")\n",
    "\n",
    "ada.fit(X_train, y_train)\n",
    "\n",
    "y_pred = ada.predict(X_next_week)\n",
    "\n",
    "print(y_pred)"
   ]
  }
 ],
 "metadata": {
  "kernelspec": {
   "display_name": "Python 3 (ipykernel)",
   "language": "python",
   "name": "python3"
  },
  "language_info": {
   "codemirror_mode": {
    "name": "ipython",
    "version": 3
   },
   "file_extension": ".py",
   "mimetype": "text/x-python",
   "name": "python",
   "nbconvert_exporter": "python",
   "pygments_lexer": "ipython3",
   "version": "3.12.4"
  }
 },
 "nbformat": 4,
 "nbformat_minor": 5
}
