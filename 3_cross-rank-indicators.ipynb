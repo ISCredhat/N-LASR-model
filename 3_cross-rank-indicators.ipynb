{
 "cells": [
  {
   "cell_type": "code",
   "execution_count": null,
   "id": "f36c0083-b759-44dc-af7f-a4aceff73e2b",
   "metadata": {},
   "outputs": [],
   "source": [
    "num_stocks = len(tickers)\n",
    "\n",
    "#cros rank and scale rankings of indicators\n",
    "def cross_rank(matrix):\n",
    "    ranked_matrix = np.zeros(matrix.shape)\n",
    "\n",
    "    for j in range(matrix.shape[1]): \n",
    "        \n",
    "        for k in range(matrix.shape[2]):\n",
    "            \n",
    "            values_at_time_j = matrix[:, j, k]\n",
    "            \n",
    "            ranked_values = pd.Series(values_at_time_j).rank() / num_stocks\n",
    "\n",
    "            ranked_values = ranked_values.fillna(0)\n",
    "            \n",
    "            ranked_matrix[:, j, k] = ranked_values.to_numpy()\n",
    "\n",
    "    return ranked_matrix\n",
    "\n",
    "print('Done')"
   ]
  },
  {
   "cell_type": "code",
   "execution_count": null,
   "id": "3fbd7fe2-afce-433a-a53b-f278a543b07f",
   "metadata": {},
   "outputs": [],
   "source": [
    "ranked_indicator_mat = cross_rank(indicator_matrix)\n",
    "print(ranked_indicator_mat.shape)"
   ]
  }
 ],
 "metadata": {
  "kernelspec": {
   "display_name": "Python 3 (ipykernel)",
   "language": "python",
   "name": "python3"
  },
  "language_info": {
   "codemirror_mode": {
    "name": "ipython",
    "version": 3
   },
   "file_extension": ".py",
   "mimetype": "text/x-python",
   "name": "python",
   "nbconvert_exporter": "python",
   "pygments_lexer": "ipython3",
   "version": "3.12.4"
  }
 },
 "nbformat": 4,
 "nbformat_minor": 5
}
