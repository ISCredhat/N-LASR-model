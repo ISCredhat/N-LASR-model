{
 "cells": [
  {
   "cell_type": "code",
   "execution_count": null,
   "id": "19c90080-90dc-4eb3-a129-9bea987bc528",
   "metadata": {},
   "outputs": [],
   "source": [
    "def calc_FR(matrix):\n",
    "    FR_mats = []\n",
    "    for i in range(matrix.shape[0]):\n",
    "        forward_return = []\n",
    "        for j in range(int((matrix.shape[1])/2)):\n",
    "            forward_return.append(((matrix[i, 2*j+1, 0] - matrix[i, 2*j, 3])/matrix[i, 2*j, 3]) * 100)\n",
    "            forward_return.append(0)\n",
    "        \n",
    "        FR_mats.append(np.array(forward_return).reshape(-1, 1))\n",
    "    new_mat = np.stack(FR_mats)\n",
    "    \n",
    "    matrix_FR = np.concatenate((matrix, new_mat), axis = 2)\n",
    "\n",
    "    return matrix_FR\n",
    "\n",
    "print('Done')"
   ]
  }
 ],
 "metadata": {
  "kernelspec": {
   "display_name": "Python 3 (ipykernel)",
   "language": "python",
   "name": "python3"
  },
  "language_info": {
   "codemirror_mode": {
    "name": "ipython",
    "version": 3
   },
   "file_extension": ".py",
   "mimetype": "text/x-python",
   "name": "python",
   "nbconvert_exporter": "python",
   "pygments_lexer": "ipython3",
   "version": "3.12.4"
  }
 },
 "nbformat": 4,
 "nbformat_minor": 5
}
