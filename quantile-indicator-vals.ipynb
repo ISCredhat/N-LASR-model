{
 "cells": [
  {
   "cell_type": "code",
   "execution_count": null,
   "id": "597e93a0-849c-4be1-9c3d-fc1d87708a1f",
   "metadata": {},
   "outputs": [],
   "source": [
    "#bin all ranked indicator values into quintiles\n",
    "def quantiler(matrix):\n",
    "    quantiled_matrix = np.zeros(matrix.shape)\n",
    "\n",
    "    for j in range(matrix.shape[1]): \n",
    "        \n",
    "        for k in range(matrix.shape[2]):\n",
    "\n",
    "            values_at_time_j = matrix[:, j, k]\n",
    "            values_series = pd.Series(values_at_time_j)\n",
    "\n",
    "            quantiled_vals = pd.cut(\n",
    "                values_series,\n",
    "                bins=[0, 1/5, 2/5, 3/5, 4/5, 1], \n",
    "                labels=[1, 2, 3, 4, 5], \n",
    "                include_lowest=True\n",
    "            ).astype(int)\n",
    "            \n",
    "            quantiled_matrix[:, j, k] = quantiled_vals.to_numpy()\n",
    "\n",
    "    return quantiled_matrix\n",
    "\n",
    "print('Done')"
   ]
  },
  {
   "cell_type": "code",
   "execution_count": 4,
   "id": "6c4bbf86-1912-4c13-aa58-8d72b9093361",
   "metadata": {},
   "outputs": [
    {
     "ename": "NameError",
     "evalue": "name 'quantiler' is not defined",
     "output_type": "error",
     "traceback": [
      "\u001b[1;31m---------------------------------------------------------------------------\u001b[0m",
      "\u001b[1;31mNameError\u001b[0m                                 Traceback (most recent call last)",
      "Cell \u001b[1;32mIn[4], line 1\u001b[0m\n\u001b[1;32m----> 1\u001b[0m quantiled_indicator_mat \u001b[38;5;241m=\u001b[39m quantiler(ranked_indicator_mat)\n",
      "\u001b[1;31mNameError\u001b[0m: name 'quantiler' is not defined"
     ]
    }
   ],
   "source": [
    "quantiled_indicator_mat = quantiler(ranked_indicator_mat)"
   ]
  },
  {
   "cell_type": "code",
   "execution_count": null,
   "id": "6001532d-3cd3-4d86-9bc4-151e170cea05",
   "metadata": {},
   "outputs": [],
   "source": [
    "quantiled_stocks_and_vals = np.concatenate((ticker_matrix ,quantiled_indicator_mat), axis = 2)"
   ]
  }
 ],
 "metadata": {
  "kernelspec": {
   "display_name": "Python 3 (ipykernel)",
   "language": "python",
   "name": "python3"
  },
  "language_info": {
   "codemirror_mode": {
    "name": "ipython",
    "version": 3
   },
   "file_extension": ".py",
   "mimetype": "text/x-python",
   "name": "python",
   "nbconvert_exporter": "python",
   "pygments_lexer": "ipython3",
   "version": "3.12.4"
  }
 },
 "nbformat": 4,
 "nbformat_minor": 5
}
